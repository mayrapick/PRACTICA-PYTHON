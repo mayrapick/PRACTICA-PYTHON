{
  "nbformat": 4,
  "nbformat_minor": 0,
  "metadata": {
    "colab": {
      "provenance": []
    },
    "kernelspec": {
      "name": "python3",
      "display_name": "Python 3"
    },
    "language_info": {
      "name": "python"
    }
  },
  "cells": [
    {
      "cell_type": "markdown",
      "source": [
        "# Recursión"
      ],
      "metadata": {
        "id": "oFbhSUFXyJ3P"
      }
    },
    {
      "cell_type": "markdown",
      "source": [
        "**Ejercicio 8**"
      ],
      "metadata": {
        "id": "-FBLd_BJydq-"
      }
    },
    {
      "cell_type": "code",
      "execution_count": null,
      "metadata": {
        "id": "z9KvXhKRyGVv"
      },
      "outputs": [],
      "source": [
        "def maximo(lista: list[int]) -> int:\n",
        "  # caso base\n",
        "  if len(lista) == 1:\n",
        "    return lista[0]\n",
        "\n",
        "  # asumimos que maximo anda bien!\n",
        "  # maximo de n elementos cuando no puedo iterar?\n",
        "  # comparo dos elementos unicamente...\n",
        "  # Comparo int,int -> int\n",
        "  # Pero tengo list[int]... ah! pero maximo lleva list[int] -> int!\n",
        "\n",
        "  a1  = lista[0 ] # es un int\n",
        "  a2n = lista[1:] # es un list[int] -maximo-> int!\n",
        "\n",
        "  maximo_de_a2n = maximo(a2n) # es un int\n",
        "\n",
        "  if a1 > maximo_de_a2n:\n",
        "    return a1\n",
        "  else:\n",
        "    return maximo_de_a2n"
      ]
    },
    {
      "cell_type": "markdown",
      "source": [
        "# OOP"
      ],
      "metadata": {
        "id": "gpyDgL2ayssq"
      }
    },
    {
      "cell_type": "markdown",
      "source": [
        "**Ejercicio 1**"
      ],
      "metadata": {
        "id": "BXobCHSfy6N9"
      }
    },
    {
      "cell_type": "code",
      "source": [
        "class Moneda(Dinero):\n",
        "\n",
        "  Denominaciones = { 1, 2, 5 }\n",
        "\n",
        "  def __init__(self, denominacion: str):\n",
        "    if denominacion in Moneda.Denominaciones:\n",
        "      self.denominacion = denominacion\n",
        "    else:\n",
        "      print(\"ERROR: denominacion no valida\")\n",
        "\n",
        "  def monto(self) -> float:\n",
        "    return float(self.denominacion)\n",
        "\n",
        "  def __str__(self) -> str:\n",
        "    return f\"Moneda de ${self.denominacion}\""
      ],
      "metadata": {
        "id": "NQvShMEPyq_n"
      },
      "execution_count": null,
      "outputs": []
    },
    {
      "cell_type": "markdown",
      "source": [
        "**Ejercicio 5**"
      ],
      "metadata": {
        "id": "ouxdOVJWzLrU"
      }
    },
    {
      "cell_type": "code",
      "source": [
        "def imprimir_dineros(monedas_billetes: list[Moneda | Billete]) -> None:\n",
        "  for moneda_o_billete in monedas_billetes:\n",
        "    print(moneda_o_billete)\n",
        "\n",
        "def sumar_dineros(dineros: list[Dinero]) -> float:\n",
        "  suma = 0\n",
        "  for dinero in dineros:\n",
        "    suma += dinero.monto()\n",
        "  return suma"
      ],
      "metadata": {
        "id": "3ehnllCWzNVq"
      },
      "execution_count": null,
      "outputs": []
    },
    {
      "cell_type": "markdown",
      "source": [
        "**Ejercicio 9**"
      ],
      "metadata": {
        "id": "r2NbPXrLzAh5"
      }
    },
    {
      "cell_type": "code",
      "source": [
        "def transferir(fuente: Debito, destino: Debito, monto: float) -> bool:\n",
        "  if fuente.saldo() >= monto:\n",
        "    fuente.extraer(monto)\n",
        "    destino.depositar(monto)\n",
        "    return True\n",
        "  else:\n",
        "    return False"
      ],
      "metadata": {
        "id": "jZYyGKDvzPvS"
      },
      "execution_count": null,
      "outputs": []
    },
    {
      "cell_type": "markdown",
      "source": [
        "# TADs"
      ],
      "metadata": {
        "id": "cuOHHXHwzQeI"
      }
    },
    {
      "cell_type": "markdown",
      "source": [
        "**Ejercicio 1**"
      ],
      "metadata": {
        "id": "BF-MTVpzzXDw"
      }
    },
    {
      "cell_type": "code",
      "source": [
        "from typing import Any\n",
        "\n",
        "class Celda():\n",
        "  def __init__(self):\n",
        "    self.valor = None\n",
        "\n",
        "  def ver(self) -> Any:\n",
        "    return self.valor\n",
        "\n",
        "  def asignar(self, valor: Any) -> None:\n",
        "    self.valor = valor\n",
        "\n",
        "  def sacar(self) -> None:\n",
        "    self.valor = None\n",
        "\n",
        "  def tieneAlgo(self) -> bool:\n",
        "    return self.valor is not None\n",
        "\n",
        "celda = Celda()\n",
        "celda.asignar(1)\n",
        "print(celda.tieneAlgo()) # True\n",
        "print(celda.ver()) # 1\n",
        "\n",
        "celda.sacar()\n",
        "print(celda.tieneAlgo()) # False"
      ],
      "metadata": {
        "id": "RlX-d6BKz2LW"
      },
      "execution_count": null,
      "outputs": []
    },
    {
      "cell_type": "markdown",
      "source": [
        "**Ejercicio 10**"
      ],
      "metadata": {
        "id": "R0VvcdZbzxSd"
      }
    },
    {
      "cell_type": "code",
      "source": [
        "frutas = [\n",
        "  \"🍇\", \"🍈\", \"🍉\", \"🍊\", \"🍋\",\n",
        "  \"🍌\", \"🍍\", \"🥭\", \"🍎\", \"🍏\",\n",
        "]\n",
        "\n",
        "pila_ingreso = Stack()\n",
        "pila_egreso = Stack()\n",
        "\n",
        "for fruta in frutas:\n",
        "  pila_ingreso.push(fruta)\n",
        "\n",
        "while not pila_ingreso.isEmpty():\n",
        "  pila_egreso.push(pila_ingreso.pop())\n",
        "\n",
        "resultado = []\n",
        "while not pila_egreso.isEmpty():\n",
        "  resultado.append(pila_egreso.pop())\n",
        "\n",
        "print(\" \".join(frutas))\n",
        "print(\" \".join(resultado))"
      ],
      "metadata": {
        "id": "EWxL52L-zisO"
      },
      "execution_count": null,
      "outputs": []
    },
    {
      "cell_type": "markdown",
      "source": [
        "**Ejercicio 22 (PQueue)**"
      ],
      "metadata": {
        "id": "ADlVCcXPz9SN"
      }
    },
    {
      "cell_type": "code",
      "source": [
        "class PQueue:\n",
        "  def __init__(self):\n",
        "    self.elements = []\n",
        "\n",
        "  def insert(self, carrito):\n",
        "    self.elements.append(carrito)\n",
        "\n",
        "  def remove(self):\n",
        "    # remuevo la primer embarazada (si hay)\n",
        "    for i, carrito in enumerate(self.elements):\n",
        "      if carrito.prioridad == \"Embarazada\":\n",
        "        return self.elements.pop(i)\n",
        "\n",
        "    # remuevo el primer jubilado (si hay)\n",
        "    for i, carrito in enumerate(self.elements):\n",
        "      if carrito.prioridad == \"Jubilado\":\n",
        "        return self.elements.pop(i)\n",
        "\n",
        "    return self.elements.pop(0)\n",
        "\n",
        "  def isEmpty(self):\n",
        "    return self.elements == []"
      ],
      "metadata": {
        "id": "dnGphZMoz8ql"
      },
      "execution_count": null,
      "outputs": []
    },
    {
      "cell_type": "markdown",
      "source": [
        "# Árboles"
      ],
      "metadata": {
        "id": "KB8mQEp50Gfl"
      }
    },
    {
      "cell_type": "markdown",
      "source": [
        "**Ejercicio 3c (Inorder)**"
      ],
      "metadata": {
        "id": "l7TRhHY60PWN"
      }
    },
    {
      "cell_type": "code",
      "source": [
        "def treeInOrder(tree: Tree | None) -> None:\n",
        "  pila = [tree]\n",
        "  while pila != []:\n",
        "    t = pila.pop()\n",
        "\n",
        "    if t is None:\n",
        "      continue\n",
        "\n",
        "    if not isinstance(t, Tree):\n",
        "      print(t)\n",
        "      continue\n",
        "\n",
        "    pila.append(t.right)\n",
        "    pila.append(t.cargo)\n",
        "    pila.append(t.left)"
      ],
      "metadata": {
        "id": "mCffOhcp0OuL"
      },
      "execution_count": null,
      "outputs": []
    },
    {
      "cell_type": "markdown",
      "source": [
        "**Ejercicio 6 (buscar)**"
      ],
      "metadata": {
        "id": "O_Ddp8dj0USc"
      }
    },
    {
      "cell_type": "code",
      "source": [
        "class BSTree(Tree):\n",
        "\n",
        "  def buscar(self, element: any) -> bool:\n",
        "    if self.cargo == element:\n",
        "      return True\n",
        "\n",
        "    elif element < self.cargo:\n",
        "      if self.left is not None:\n",
        "        return self.left.buscar(element)\n",
        "\n",
        "    else:\n",
        "      if self.right is not None:\n",
        "        return self.right.buscar(element)\n",
        "\n",
        "    return False"
      ],
      "metadata": {
        "id": "oCyb4BEx0UAb"
      },
      "execution_count": null,
      "outputs": []
    }
  ]
}