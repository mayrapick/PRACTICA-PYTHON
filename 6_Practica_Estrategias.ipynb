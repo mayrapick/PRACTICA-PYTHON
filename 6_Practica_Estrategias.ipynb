{
  "nbformat": 4,
  "nbformat_minor": 0,
  "metadata": {
    "colab": {
      "provenance": []
    },
    "kernelspec": {
      "name": "python3",
      "display_name": "Python 3"
    },
    "language_info": {
      "name": "python"
    }
  },
  "cells": [
    {
      "cell_type": "markdown",
      "source": [
        "# Práctica 6: Estrategias de Algoritmos"
      ],
      "metadata": {
        "id": "7u24cwGnQTGB"
      }
    },
    {
      "cell_type": "markdown",
      "source": [
        "# Generadores\n",
        "\n",
        "Los generadores en Python son una herramienta expresiva muy poderosa, que como veremos nos va a permitir resolver algunos problemas más fácilmente, ¡y otros más eficientemente!\n",
        "\n",
        "Vean la [documentación oficial](https://wiki.python.org/moin/Generators) si les interesa."
      ],
      "metadata": {
        "id": "FXKGUU31xj5f"
      }
    },
    {
      "cell_type": "markdown",
      "source": [
        "---\n",
        "# Problema de ejemplo"
      ],
      "metadata": {
        "id": "gC9j4BEFx9Ms"
      }
    },
    {
      "cell_type": "code",
      "execution_count": null,
      "metadata": {
        "id": "pRVn_qMsxHaR"
      },
      "outputs": [],
      "source": [
        "def elementos_hasta_n(n: int) -> list[int]:\n",
        "  lista = []\n",
        "\n",
        "  i = 1\n",
        "  while i <= n:\n",
        "    lista.append(i)\n",
        "    i += 1\n",
        "\n",
        "  return lista"
      ]
    },
    {
      "cell_type": "code",
      "source": [
        "resultado = elementos_hasta_n(100_000_000) # Comprobar que esto tarda mucho"
      ],
      "metadata": {
        "id": "AtItrjYeyqWQ"
      },
      "execution_count": null,
      "outputs": []
    },
    {
      "cell_type": "markdown",
      "source": [
        "---\n",
        "# Haciendo el ajuste"
      ],
      "metadata": {
        "id": "68eFcEmuzRLR"
      }
    },
    {
      "cell_type": "code",
      "source": [
        "def elementos_hasta_n_perezosamente(n: int):\n",
        "  i = 1\n",
        "  while i <= n:\n",
        "    yield i # Yield es como un return que después sigue donde se quedó\n",
        "    i += 1"
      ],
      "metadata": {
        "id": "0i9_HOmLzUDm"
      },
      "execution_count": null,
      "outputs": []
    },
    {
      "cell_type": "code",
      "source": [
        "resultado = elementos_hasta_n_perezosamente(100_000_000) # Comprobar que esto tarda poco, analizar el tipo de lo que retorna"
      ],
      "metadata": {
        "id": "dbNOOEI1zk56"
      },
      "execution_count": null,
      "outputs": []
    },
    {
      "cell_type": "markdown",
      "source": [
        "---\n",
        "# Midiendo tiempos"
      ],
      "metadata": {
        "id": "vHcCXjFHz1LE"
      }
    },
    {
      "cell_type": "code",
      "source": [
        "def consumir(iterable, cantidad: int) -> None:\n",
        "  i = 0\n",
        "  for _ in iterable: # Consumo el generador\n",
        "    if i >= cantidad: # Decido parar\n",
        "      break\n",
        "    i += 1"
      ],
      "metadata": {
        "id": "bYZTWXfHz4RN"
      },
      "execution_count": null,
      "outputs": []
    },
    {
      "cell_type": "code",
      "source": [
        "consumir(elementos_hasta_n(100_000_000), 100) # Demora mucho"
      ],
      "metadata": {
        "id": "oIk6Upy80AaV"
      },
      "execution_count": null,
      "outputs": []
    },
    {
      "cell_type": "code",
      "source": [
        "consumir(elementos_hasta_n_perezosamente(100_000_000), 100) # Demora poco"
      ],
      "metadata": {
        "id": "25EDY8mz0DXG"
      },
      "execution_count": null,
      "outputs": []
    },
    {
      "cell_type": "markdown",
      "source": [
        "---\n",
        "# Otro uso: generación de secuencias complejas\n",
        "###### (¡y posiblemente infinitas!)"
      ],
      "metadata": {
        "id": "Y7eVmur502Tk"
      }
    },
    {
      "cell_type": "code",
      "source": [
        "def fibonacci():\n",
        "  f0 = 0\n",
        "  f1 = 1\n",
        "  while True:\n",
        "    yield f0\n",
        "    fnext = f1 + f0\n",
        "    f0, f1 = f1, fnext"
      ],
      "metadata": {
        "id": "1rWuQ3Ij1MjQ"
      },
      "execution_count": null,
      "outputs": []
    },
    {
      "cell_type": "code",
      "source": [
        "fibonacci() # Funciona"
      ],
      "metadata": {
        "id": "T1uEygC_1yWO"
      },
      "execution_count": null,
      "outputs": []
    },
    {
      "cell_type": "code",
      "source": [
        "[f for f in fibonacci() if f < 100] # Infinito"
      ],
      "metadata": {
        "id": "O_pJfpX-161A"
      },
      "execution_count": null,
      "outputs": []
    },
    {
      "cell_type": "code",
      "source": [
        "lista = []\n",
        "for f in fibonacci():\n",
        "  if f >= 100:\n",
        "    break\n",
        "  lista.append(f)\n",
        "lista # Funciona"
      ],
      "metadata": {
        "id": "GieKgTDj2MKf"
      },
      "execution_count": null,
      "outputs": []
    },
    {
      "cell_type": "code",
      "source": [
        "def rand_hasta_que_termine_en(n: int):\n",
        "  from random import randrange\n",
        "\n",
        "  f = randrange(0, 9)\n",
        "  while f != n:\n",
        "    yield f\n",
        "    f = randrange(0, 9)"
      ],
      "metadata": {
        "id": "VqkV5-Cj2iRp"
      },
      "execution_count": null,
      "outputs": []
    },
    {
      "cell_type": "code",
      "source": [
        "list(rand_hasta_que_termine_en(0)) # Probar varias veces"
      ],
      "metadata": {
        "id": "ophgl9sJ3WSt"
      },
      "execution_count": null,
      "outputs": []
    },
    {
      "cell_type": "code",
      "source": [
        "from itertools import product\n",
        "\n",
        "A = [1, 2, 3]\n",
        "\n",
        "def tuplasDeA(k: int):\n",
        "  yield from product(A, repeat=k) # Sintaxis: yield from <iterable>\n",
        "\n",
        "list(tuplasDeA(3))"
      ],
      "metadata": {
        "id": "sLu53i0KaZSP"
      },
      "execution_count": null,
      "outputs": []
    },
    {
      "cell_type": "markdown",
      "source": [
        "---\n",
        "# Ejercicios\n",
        "\n",
        "1. Implementar las siguientes funciones de la librería de Python como generadores: `range`, `enumerate`, `zip`\n",
        "\n",
        "2. Implementar un generador de todas las coordenadas `(x, y)` de un plano de tamaño `N x M`, dimensiones pasadas como parámetros"
      ],
      "metadata": {
        "id": "Cf-PKMZp3jdr"
      }
    },
    {
      "cell_type": "markdown",
      "source": [
        "# Búsqueda Exhaustiva"
      ],
      "metadata": {
        "id": "qX84mdhW2X8q"
      }
    },
    {
      "cell_type": "markdown",
      "source": [
        "Para resolver esta práctica, considere la estructura de solución enseñada en la materia, y el paquete `itertools`, que puede serle útil. Recordar que la estructura no siempre resolverá el problema tal cual está presentada."
      ],
      "metadata": {
        "id": "i-k9mQ0PyB2Z"
      }
    },
    {
      "cell_type": "code",
      "source": [
        "import itertools\n",
        "\n",
        "def es_solucion(solucion: \"Solución\") -> bool:\n",
        "  pass\n",
        "\n",
        "def candidatos() -> \"Generador(Solución)\":\n",
        "  pass\n",
        "\n",
        "def resolver(problema: \"Problema\") -> \"Solución\":\n",
        "  pass\n",
        "\n",
        "# resolver(problema)"
      ],
      "metadata": {
        "id": "f8RAH2xiyBfN"
      },
      "execution_count": null,
      "outputs": []
    },
    {
      "cell_type": "markdown",
      "source": [
        "**Ejercicio 1**: Dado un número entero compuesto, aplicar un algoritmo de busqueda exhaustiva para dar con uno de sus divisores no triviales."
      ],
      "metadata": {
        "id": "DE49vwGLUvLr"
      }
    },
    {
      "cell_type": "markdown",
      "source": [
        "**Ejercicio 2**: Escribir una función que, dados cuatro números, devuelva el mayor producto\n",
        "de dos de ellos. Por ejemplo, si recibe los números 1, 5, -2, -4 debe devolver 8, que es el producto\n",
        "más grande que se puede obtener entre ellos (8 = −2 × −4)."
      ],
      "metadata": {
        "id": "zBtTyA6b3-7o"
      }
    },
    {
      "cell_type": "markdown",
      "source": [
        "**Ejercicio 3**: Encuentre todas las soluciones naturales de la ecuación $a² + b² = c²$, donde $1\\leq a, b, c \\leq n$.\n",
        "\n",
        "_Ayuda: puede utilizar_ `itertools.product`"
      ],
      "metadata": {
        "id": "OiqDgyg39tbZ"
      }
    },
    {
      "cell_type": "markdown",
      "source": [
        "**Ejercicio 4**: Dada una lista de $n$ números y un número mágico $m$, determinar si existen en la lista 3 números cuya suma sea el número mágico $m$. Se pueden repetir números.\n",
        "\n",
        "_Ayuda: puede utilizar_ `itertools.product`"
      ],
      "metadata": {
        "id": "G5u4FQJVTFdz"
      }
    },
    {
      "cell_type": "markdown",
      "source": [
        "**Ejercicio 5**: Dada una lista de $n$ números y un número mágico $m$, determinar si existen en la lista $k$ números cuya suma sea el número mágico $m$. Se pueden repetir números.\n",
        "\n",
        "_Ayuda: puede utilizar_ `itertools.product`"
      ],
      "metadata": {
        "id": "YPW238Hs7o6B"
      }
    },
    {
      "cell_type": "markdown",
      "source": [
        "**Ejercicio 6**: Suma máxima de subarray\n",
        "\n",
        "Dada una lista de $n$ números enteros, encontrar la sublista contigua de números cuya suma sea máxima.\n",
        "\n",
        "Ejemplo: para `[1, -5, 20, -6, 10]` la respuesta es `[20, -6, 10]`."
      ],
      "metadata": {
        "id": "2XYVIdPC1CLv"
      }
    },
    {
      "cell_type": "markdown",
      "source": [
        "**Ejercicio 7**: Ordenamiento\n",
        "\n",
        "Ordene una lista usando búsqueda exhaustiva, para esto proponga todas las permutaciones de una lista y busque aquella que esté ordenada.\n",
        "\n",
        "_Ayuda: utilice_ `itertools.permutations`"
      ],
      "metadata": {
        "id": "RtJ0AmLq4tZR"
      }
    },
    {
      "cell_type": "markdown",
      "source": [
        "**Ejercicio 8**: El problema del agente viajero\n",
        "\n",
        "Dada una lista de $n$ ciudades y las distancias entre cada par de ellas,\n",
        "encontrar el recorrido más corto posible que visita cada ciudad\n",
        "exactamente una vez y regresa a la ciudad origen.\n",
        "\n",
        "Por ejemplo, dadas las ciudad a, b, c y d con distancias:\n",
        "\n",
        "a - b: 2\n",
        "\n",
        "a - c: 5\n",
        "\n",
        "a - d: 7\n",
        "\n",
        "b - c: 8\n",
        "\n",
        "b - d: 3\n",
        "\n",
        "c - d: 1\n",
        "\n",
        "El camino optimo es a -> b -> d -> c -> a\n",
        "\n",
        "_Ayuda_: Utilice `networkx` y la función `simple_cycles`."
      ],
      "metadata": {
        "id": "2njPPbBw8Zx-"
      }
    },
    {
      "cell_type": "code",
      "source": [
        "!pip install networkx"
      ],
      "metadata": {
        "id": "wvw_Qru-943Y"
      },
      "execution_count": null,
      "outputs": []
    },
    {
      "cell_type": "markdown",
      "source": [
        "**Ejercicio 9: El problema de la mochila**\n",
        "\n",
        "Sean $n$ distintos tipos de objetos, de los cuales se tienen $q_i$ unidades disponibles para cada tipo ($1 ≤ q_i ≤ ∞$). Cada tipo de objeto $i$ tiene un\n",
        "beneficio asociado $v_i$ y un peso (o volumen) $w_i$ ($vi\n",
        ", wi > 0$).\n",
        "\n",
        "Por otro lado se tiene una mochila, donde se pueden introducir los\n",
        "objetos, que soporta un peso máximo (o volumen máximo) $W$.\n",
        "El problema consiste en meter en la mochila objetos de tal forma que\n",
        "se maximice el valor de los objetos que contiene y siempre que no se\n",
        "supere el peso máximo que puede soportar la misma.\n",
        "\n",
        "Por ejemplo, si la capacidad de la mochila es $W=5 kg$ y los candidatoss objetos:\n",
        "\n",
        "| Objeto ($i$) | Cantidad ($q_i$)| Valor ($v_i)$ | Peso ($w_i$) |\n",
        "|--------------|-----------------|---------------|--------------|\n",
        "| objeto 1     |   1             | 10usd         | 1 kg         |\n",
        "| objeto 2     |   2             | 20usd         | 3 kg         |\n",
        "| objeto 3     |   1             | 15usd         | 2 kg         |\n",
        "| objeto 4     |   3             | 20usd         | 4 kg         |\n",
        "\n",
        "Conviene llevar una unidad del objeto 2 y una unidad del objeto 3.\n"
      ],
      "metadata": {
        "id": "yoPdPd-KBdYI"
      }
    },
    {
      "cell_type": "markdown",
      "source": [
        "# Divide & Conquer"
      ],
      "metadata": {
        "id": "yZhlNVB22dag"
      }
    },
    {
      "cell_type": "markdown",
      "source": [
        "Para resolver esta práctica, considere la estructura de solución enseñada en la materia. Recordar que la estructura no siempre resolverá el problema tal cuál está presentada."
      ],
      "metadata": {
        "id": "iI58WR_F2nvO"
      }
    },
    {
      "cell_type": "code",
      "source": [
        "def es_caso_base(problema: \"Problema\") -> bool:\n",
        "  pass\n",
        "\n",
        "def resolver_caso_base(problema: \"Problema\") -> \"Solución\":\n",
        "  pass\n",
        "\n",
        "def dividir(problema: \"Problema\") -> \"(Problema, Problema)\":\n",
        "  pass\n",
        "\n",
        "def combinar(s1: \"Solución\", s2: \"Solución\") -> \"Solución\":\n",
        "  pass\n",
        "\n",
        "def resolver(problema: \"Problema\") -> \"Solución\":\n",
        "  pass"
      ],
      "metadata": {
        "id": "HKG-LMqd2nvP"
      },
      "execution_count": null,
      "outputs": []
    },
    {
      "cell_type": "markdown",
      "source": [
        "**Ejercicio 1** Implemente un algoritmo Divide y Vencerás que calcule la suma de los numeros en una lista"
      ],
      "metadata": {
        "id": "rG_h_vvsYwQd"
      }
    },
    {
      "cell_type": "markdown",
      "source": [
        "**Ejercicio 2** Búsqueda binaria\n",
        "\n",
        "Implemente un algoritmo Divide y Vencerás que encuentre un número en una lista ordenada. ¿Es necesario resolver todos los subproblemas?"
      ],
      "metadata": {
        "id": "LzWEZtqlaThI"
      }
    },
    {
      "cell_type": "markdown",
      "source": [
        "**Ejercicio 3** Dada una lista de números, proponga algoritmos Divide & Conquer para:\n",
        "\n",
        "a. Encontrar el menor elemento de la lista\n",
        "\n",
        "b. Encontrar el mayor elemento de la lista\n",
        "\n",
        "c. Encontrar el menor y el mayor elemento de la lista"
      ],
      "metadata": {
        "id": "KmNNPhdIbhcr"
      }
    },
    {
      "cell_type": "markdown",
      "source": [
        "**Ejercicio 4** Escriba un algoritmo Divide & Conquer para calcular la potencia $b^n$ calculando potencias menores en cada paso. Puede suponer que $n$ es un numero positivo"
      ],
      "metadata": {
        "id": "gkfJS7c9dQPf"
      }
    },
    {
      "cell_type": "markdown",
      "source": [
        "**Ejercicio 5** De un algoritmo Divide & Conquer para encontrar el número más grande de una lista, y el segundo mas grande. Puede suponer que la lista siempre tiene al menos dos numeros y que los numeros son todos distintos entre si."
      ],
      "metadata": {
        "id": "n1dkqUSoexoa"
      }
    },
    {
      "cell_type": "markdown",
      "source": [
        "**Ejercicio 6**: Ordenamiento\n",
        "\n",
        "Ordene una lista usando divide y vencerás, para esto preste atención cómo combina dos listas ordenadas para producir una nueva lista ordenada. No utilice ningún método de ordenamiento _builtin_"
      ],
      "metadata": {
        "id": "IZo4JZJ25gUI"
      }
    },
    {
      "cell_type": "markdown",
      "source": [
        "**Ejercicio 7**: Suma máxima de subarray\n",
        "\n",
        "Repita el ejercicio de la sección anterior. Para poder hacerlo, necesitará más información que solamente la solución final. La llamada recursiva debe devolver, si representamos un subarray como sus dos índices $[i:j]$:\n",
        "- La suma máxima $[i:j]$\n",
        "- La suma total $[0:n]$\n",
        "- La suma máxima por izquierda $[0:j']$\n",
        "- La suma máxima por derecha $[i':n]$\n",
        "\n",
        "Con estos datos hay suficiente información en las llamadas recursivas para resolver el problema con recursión."
      ],
      "metadata": {
        "id": "SHnfidWe8Ykb"
      }
    },
    {
      "cell_type": "markdown",
      "source": [
        "# Greedy"
      ],
      "metadata": {
        "id": "Mp75quWIanOS"
      }
    },
    {
      "cell_type": "markdown",
      "source": [
        "Para resolver esta práctica, considere la siguiente estructura de solucion. Recordar que la misma no siempre resolverá el problema tal cuál está presentada."
      ],
      "metadata": {
        "id": "WKOA5qEvprm1"
      }
    },
    {
      "cell_type": "code",
      "source": [
        "def es_solucion(eleccion_actual: \"Solucion\") -> bool:\n",
        "  pass\n",
        "\n",
        "def elegir_candidato(problema: \"Problema\") -> \"Elemento\":\n",
        "  pass\n",
        "\n",
        "def es_factible(eleccion: \"Solucion\") -> bool:\n",
        "  pass\n",
        "\n",
        "def resolver(problema: \"Problema\") -> \"Solucion\":\n",
        "  pass"
      ],
      "metadata": {
        "id": "g6uYFRSpoygT"
      },
      "execution_count": null,
      "outputs": []
    },
    {
      "cell_type": "markdown",
      "source": [
        "**Ejercicio 1**: Dada una lista de pares `(letra, numero)` elegir aquellos pares con la letra `A` hasta que la suma de los numeros pase un umbral `S`, usando la receta de Greedy."
      ],
      "metadata": {
        "id": "wyUrQ_fMDUiC"
      }
    },
    {
      "cell_type": "markdown",
      "source": [
        "**Ejercicio 2**: Ordenar\n",
        "\n",
        "Ordenar una lista de números usando Greedy."
      ],
      "metadata": {
        "id": "1wHKWh4JDFlH"
      }
    },
    {
      "cell_type": "markdown",
      "source": [
        "**Ejercicio 3**: Tenemos una lista de tareas, cada tarea se simboliza con el tiempo que toma completarla, pero tenemos un tiempo límite $T$ que probablemente no nos alcance para hacerlas todas.\n",
        "\n",
        "¿Cuál es la mayor cantidad de tareas que puedo completar en $T$ tiempo o menos?\n",
        "\n",
        "Ejemplo:\n",
        "```python\n",
        "tasks = [5, 9, 2, 6, 1]\n",
        "T = 10\n",
        "# Respuesta: 3\n",
        "```"
      ],
      "metadata": {
        "id": "E3KZzsxYiqTz"
      }
    },
    {
      "cell_type": "markdown",
      "source": [
        "**Ejercicio 4**: Problema del Cambio. Dado un número entero $C$ que representa un vuelto que hay que dar, encuentre una combinación de monedas de 1, 5, 10 y 20 centavos que sumen $C$ y que sean la menor cantidad de monedas posible."
      ],
      "metadata": {
        "id": "DppkYaoADS82"
      }
    },
    {
      "cell_type": "markdown",
      "source": [
        "**Ejercicio 5**: Sean $n$ actividades que podríamos hacer. Cada actividad tiene un tiempo de inicio y un tiempo de fin, $0 ≤ si < fi < ∞$. Calcule la cantidad máxima de actividades que podemos realizar, si no se pueden hacer en simultáneo."
      ],
      "metadata": {
        "id": "9ueoV2NyEDIO"
      }
    },
    {
      "cell_type": "markdown",
      "source": [
        "**Ejercicio 6**: Algoritmo de Kruskall. Al igual que Prim, encuentra el árbol de expansión mínimo, pero es más sencillo a la hora de programarlo. Dado el conjunto de $E$ aristas ponderadas del grafo de $N$ vértices, elige las primeras $N - 1$ aristas de menor costo que no formen un ciclo.\n",
        "\n",
        "Ejemplo:\n",
        "\n",
        "$E = [(A, B, 1), (A, C, 2), (A, D, 3), (A, E, 4), (B, C, 5), (C, D, 6), (D, E, 7), (E, B, 8)]$\n",
        "\n",
        "Identificamos que hay 5 vertices unicos en esas aristas (los vertices estan implicitos y que es conexo tambien) y la respuesta son las primeras 4 aristas"
      ],
      "metadata": {
        "id": "HuUuShJIFSsc"
      }
    },
    {
      "cell_type": "markdown",
      "source": [
        "**Ejercicio 7**: La codificación de Huffman es un algoritmo de compresión de datos. A los elementos más frecuentes se les asigna cadenas de bits más cortas.\n",
        "\n",
        "Se emplea un árbol para la codificación, donde los nodos internos no tienen datos, la rama izquierda representa leer un 0, la rama derecha representa leer un 1, y al llegar a la hoja interpretamos el dato que allí se encuentra.\n",
        "\n",
        "Ejemplo:\n",
        "\n",
        "Dado el siguiente árbol de codificación de Huffman\n",
        "```\n",
        "   .\n",
        " 0/ \\1\n",
        " /   \\\n",
        "a  0/ \\1\n",
        "   b   c\n",
        "```\n",
        "y la cadena de bits\n",
        "```\n",
        "01010110\n",
        "```\n",
        "interpretaríamos\n",
        "```\n",
        "0 -> a\n",
        "10 -> b\n",
        "10 -> b\n",
        "11 -> c\n",
        "0 -> a\n",
        "```\n",
        "Está garantizado que, si la cadena de bits salió de ese árbol, entonces la interpretación siempre se puede realizar sin errores.\n",
        "\n",
        "El algoritmo para construir el árbol toma siempre los dos nodos con menor frecuencia y los une en un nodo interno, cuyo valor es la suma de las frecuencias, el menor de los dos hijos va a la rama del 0, y el mayor a la del 1, e itera este proceso Greedy hasta que nos quede un solo nodo, la raíz del árbol entero.\n",
        "\n",
        "Implementar el algoritmo que transforma un string en un Árbol de Huffman para crear el árbol. Como extra, además escribir el algoritmo de interpretación de secuencias de 1s y 0s. El algoritmo toma los 2 nodos con menor frecuencia y crea un nuevo nodo interno."
      ],
      "metadata": {
        "id": "OqF-LaU2eN0J"
      }
    }
  ]
}