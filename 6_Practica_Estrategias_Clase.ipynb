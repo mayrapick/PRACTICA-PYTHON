{
  "nbformat": 4,
  "nbformat_minor": 0,
  "metadata": {
    "colab": {
      "provenance": []
    },
    "kernelspec": {
      "name": "python3",
      "display_name": "Python 3"
    },
    "language_info": {
      "name": "python"
    }
  },
  "cells": [
    {
      "cell_type": "markdown",
      "source": [
        "# Práctica 6: Ejercicios Resueltos\n"
      ],
      "metadata": {
        "id": "7u24cwGnQTGB"
      }
    },
    {
      "cell_type": "markdown",
      "source": [
        "# Búsqueda Exhaustiva"
      ],
      "metadata": {
        "id": "nMQAP9YMwQu_"
      }
    },
    {
      "cell_type": "markdown",
      "source": [
        "**Ejercicio 3**: Encuentre todas las soluciones naturales de la ecuación $a² + b² = c²$, donde $1\\leq a, b, c \\leq n$.\n",
        "\n",
        "_Ayuda: puede utilizar_ `itertools.product`"
      ],
      "metadata": {
        "id": "OiqDgyg39tbZ"
      }
    },
    {
      "cell_type": "code",
      "source": [
        "from itertools import product, permutations, combinations\n",
        "from typing import Iterable\n",
        "\n",
        "def es_solucion(solucion: tuple[int, int, int]) -> bool:\n",
        "  a, b, c = solucion\n",
        "  return a ** 2 + b ** 2 == c ** 2\n",
        "\n",
        "\n",
        "def candidatos(N: int) -> Iterable[tuple[int, int, int]]:\n",
        "  yield from product(range(1, N + 1), repeat=3)\n",
        "\n",
        "def resolver(N: int) -> list[tuple[int, int, int]]:\n",
        "  soluciones = []\n",
        "  for candidato in candidatos(N):\n",
        "    if es_solucion(candidato):\n",
        "      soluciones.append(candidato)\n",
        "  return soluciones\n",
        "\n",
        "resolver(5)"
      ],
      "metadata": {
        "colab": {
          "base_uri": "https://localhost:8080/"
        },
        "id": "oEWJ32GhPkF-",
        "outputId": "92ce1489-2b28-4145-8403-cb4a372897bf"
      },
      "execution_count": null,
      "outputs": [
        {
          "output_type": "execute_result",
          "data": {
            "text/plain": [
              "[(3, 4, 5), (4, 3, 5)]"
            ]
          },
          "metadata": {},
          "execution_count": 32
        }
      ]
    },
    {
      "cell_type": "markdown",
      "source": [
        "**Ejercicio 6**: Suma máxima de subarray\n",
        "\n",
        "Dada una lista de $n$ números enteros, encontrar la sublista contigua de números cuya suma sea máxima.\n",
        "\n",
        "Ejemplo: para `[1, -5, 20, -6, 10]` la respuesta es `[20, -6, 10]`."
      ],
      "metadata": {
        "id": "2XYVIdPC1CLv"
      }
    },
    {
      "cell_type": "code",
      "source": [
        "from itertools import product\n",
        "from typing import Iterable\n",
        "\n",
        "def medir(solucion: list[int]) -> int:\n",
        "  return sum(solucion)\n",
        "\n",
        "def es_solucion(solucion: list[int]) -> bool:\n",
        "  return True\n",
        "\n",
        "def candidatos(lista: list[int]) -> Iterable[list[int]]:\n",
        "  for i, j in product(range(len(lista) + 1), repeat=2):\n",
        "    yield lista[i:j]\n",
        "\n",
        "def resolver(lista: list[int]) -> list[int]:\n",
        "  mejor_solucion = None\n",
        "  costo_mejor_solucion = -float('inf')\n",
        "\n",
        "  for candidato in candidatos(lista):\n",
        "    if es_solucion(candidato):\n",
        "\n",
        "      costo = medir(candidato)\n",
        "      if costo > costo_mejor_solucion:\n",
        "        mejor_solucion = candidato\n",
        "        costo_mejor_solucion = costo\n",
        "\n",
        "  return mejor_solucion\n",
        "\n",
        "resolver([1, -5, 20, -6, 10])"
      ],
      "metadata": {
        "colab": {
          "base_uri": "https://localhost:8080/"
        },
        "id": "DTmbM9UxZZ6H",
        "outputId": "d80deecf-1af4-40b6-be0e-409130811c18"
      },
      "execution_count": null,
      "outputs": [
        {
          "output_type": "execute_result",
          "data": {
            "text/plain": [
              "[20, -6, 10]"
            ]
          },
          "metadata": {},
          "execution_count": 28
        }
      ]
    },
    {
      "cell_type": "markdown",
      "source": [
        "# Divide & Conquer"
      ],
      "metadata": {
        "id": "yZhlNVB22dag"
      }
    },
    {
      "cell_type": "markdown",
      "source": [
        "**Ejercicio 1** Implemente un algoritmo Divide y Vencerás que calcule la suma de los numeros en una lista"
      ],
      "metadata": {
        "id": "rG_h_vvsYwQd"
      }
    },
    {
      "cell_type": "code",
      "source": [
        "\"\"\"\n",
        "Problema === list[int]\n",
        "Solucion === int\n",
        "\"\"\"\n",
        "\n",
        "def es_caso_base(problema: \"Problema\") -> bool:\n",
        "  return len(problema) <= 1\n",
        "\n",
        "def resolver_caso_base(problema: \"Problema\") -> \"Solución\":\n",
        "  if len(problema) == 0:\n",
        "    return 0\n",
        "  else:\n",
        "    return problema[0]\n",
        "\n",
        "def dividir(problema: \"Problema\") -> \"(Problema, Problema)\":\n",
        "  m = len(problema) // 2\n",
        "  return problema[:m], problema[m:]\n",
        "\n",
        "def combinar(s1: \"Solución\", s2: \"Solución\") -> \"Solución\":\n",
        "  return s1 + s2\n",
        "\n",
        "def resolver(problema: \"Problema\") -> \"Solución\":\n",
        "  if es_caso_base(problema):\n",
        "    return resolver_caso_base(problema)\n",
        "\n",
        "  p1, p2 = dividir(problema)\n",
        "  s1, s2 = resolver(p1), resolver(p2)\n",
        "  return combinar(s1, s2)\n",
        "\n",
        "assert resolver([1, -5, 20, -6, 10]) == sum([1, -5, 20, -6, 10])"
      ],
      "metadata": {
        "id": "1-8dbGfBgIbF"
      },
      "execution_count": null,
      "outputs": []
    },
    {
      "cell_type": "markdown",
      "source": [
        "**Ejercicio 6**: Ordenamiento\n",
        "\n",
        "Ordene una lista usando divide y vencerás, para esto preste atención cómo combina dos listas ordenadas para producir una nueva lista ordenada. No utilice ningún método de ordenamiento _builtin_"
      ],
      "metadata": {
        "id": "IZo4JZJ25gUI"
      }
    },
    {
      "cell_type": "code",
      "source": [
        "\"\"\"\n",
        "Problema === list[int]\n",
        "Solucion === list[int]\n",
        "\"\"\"\n",
        "def es_caso_base(problema: \"Problema\") -> bool:\n",
        "  return len(problema) <= 1\n",
        "\n",
        "def resolver_caso_base(problema: \"Problema\") -> \"Solución\":\n",
        "  return problema\n",
        "\n",
        "def dividir(problema: \"Problema\") -> \"(Problema, Problema)\":\n",
        "  m = len(problema) // 2\n",
        "  return problema[:m], problema[m:]\n",
        "\n",
        "def combinar(s1: \"Solución\", s2: \"Solución\") -> \"Solución\":\n",
        "  # la parte complicada esta acá, tienen que \"concatenar\"\n",
        "  # dos listas ordenadas, sin ordenarlas con sort()\n",
        "  i = 0\n",
        "  j = 0\n",
        "  s = []\n",
        "  while i < len(s1) and j < len(s2):\n",
        "    if s1[i] < s2[j]:\n",
        "      s.append(s1[i])\n",
        "      i += 1\n",
        "    else:\n",
        "      s.append(s2[j])\n",
        "      j += 1\n",
        "\n",
        "  if i < len(s1):\n",
        "    return s + s1[i:]\n",
        "  else:\n",
        "    return s + s2[j:]\n",
        "\n",
        "def resolver(problema: \"Problema\") -> \"Solución\":\n",
        "  if es_caso_base(problema):\n",
        "    return resolver_caso_base(problema)\n",
        "\n",
        "  p1, p2 = dividir(problema)\n",
        "  s1, s2 = resolver(p1), resolver(p2)\n",
        "  return combinar(s1, s2)\n",
        "\n",
        "assert resolver([1, -5, 20, -6, 10]) == [-6, -5, 1, 10, 20]\n",
        "resolver([1, -5, 20, -6, 10])"
      ],
      "metadata": {
        "colab": {
          "base_uri": "https://localhost:8080/"
        },
        "id": "FfdL3h6KylUv",
        "outputId": "4766f55b-6b71-47d9-acdf-52e3b75c1aed"
      },
      "execution_count": null,
      "outputs": [
        {
          "output_type": "execute_result",
          "data": {
            "text/plain": [
              "[-6, -5, 1, 10, 20]"
            ]
          },
          "metadata": {},
          "execution_count": 4
        }
      ]
    },
    {
      "cell_type": "markdown",
      "source": [
        "# Greedy"
      ],
      "metadata": {
        "id": "Mp75quWIanOS"
      }
    },
    {
      "cell_type": "markdown",
      "source": [
        "**Ejercicio 2**: Ordenar\n",
        "\n",
        "Ordenar una lista de números usando Greedy."
      ],
      "metadata": {
        "id": "1wHKWh4JDFlH"
      }
    },
    {
      "cell_type": "code",
      "source": [
        "def es_solucion(bolsa) -> bool:\n",
        "  return len(bolsa) == 0\n",
        "\n",
        "def elegir_candidato(bolsa: \"Problema\") -> \"Elemento\":\n",
        "  return min(bolsa)\n",
        "\n",
        "def es_factible(eleccion: \"Solucion\") -> bool:\n",
        "  return True\n",
        "\n",
        "def resolver(problema: \"Problema\") -> \"Solucion\":\n",
        "  solucion = []\n",
        "  while not es_solucion(problema):\n",
        "    x = elegir_candidato(problema)\n",
        "    problema.remove(x)\n",
        "    if es_factible(solucion + [x]):\n",
        "      solucion.append(x)\n",
        "  return solucion\n",
        "\n",
        "assert resolver([1, -5, 20, -6, 10]) == [-6, -5, 1, 10, 20]\n",
        "resolver([1, -5, 20, -6, 10])"
      ],
      "metadata": {
        "id": "_2yGZ7EaAm10",
        "colab": {
          "base_uri": "https://localhost:8080/"
        },
        "outputId": "3c931965-dbfa-4cd8-b052-79452ccf74cc"
      },
      "execution_count": null,
      "outputs": [
        {
          "output_type": "execute_result",
          "data": {
            "text/plain": [
              "[-6, -5, 1, 10, 20]"
            ]
          },
          "metadata": {},
          "execution_count": 7
        }
      ]
    },
    {
      "cell_type": "markdown",
      "source": [
        "**Ejercicio 3**: Tenemos una lista de tareas, cada tarea se simboliza con el tiempo que toma completarla, pero tenemos un tiempo límite $T$ que probablemente no nos alcance para hacerlas todas.\n",
        "\n",
        "¿Cuál es la mayor cantidad de tareas que puedo completar en $T$ tiempo o menos?\n",
        "\n",
        "Ejemplo:\n",
        "```python\n",
        "tasks = [5, 9, 2, 6, 1]\n",
        "T = 10\n",
        "# Respuesta: 3\n",
        "```"
      ],
      "metadata": {
        "id": "E3KZzsxYiqTz"
      }
    },
    {
      "cell_type": "code",
      "source": [
        "def es_solucion(bolsa: \"Problema\", T: int) -> bool:\n",
        "  return len(bolsa) == 0\n",
        "\n",
        "def elegir_candidato(bolsa: \"Problema\") -> \"Elemento\":\n",
        "  return min(bolsa)\n",
        "\n",
        "def es_factible(eleccion: \"Solucion\", T: int) -> bool:\n",
        "  return sum(eleccion) <= T\n",
        "\n",
        "def resolver(problema: \"Problema\", T: int) -> \"Solucion\":\n",
        "  solucion = []\n",
        "  while not es_solucion(problema, T):\n",
        "    x = elegir_candidato(problema)\n",
        "    problema.remove(x)\n",
        "    if es_factible(solucion + [x], T):\n",
        "      solucion.append(x)\n",
        "  return solucion\n",
        "\n",
        "assert set(resolver([5, 9, 2, 6, 1], 10)) == {2, 5, 1}\n",
        "resolver([5, 9, 2, 6, 1], 10)"
      ],
      "metadata": {
        "colab": {
          "base_uri": "https://localhost:8080/"
        },
        "id": "fKw_lXfuQUyp",
        "outputId": "75e314ac-7b08-4740-8e5c-d6157df5b8fa"
      },
      "execution_count": null,
      "outputs": [
        {
          "output_type": "execute_result",
          "data": {
            "text/plain": [
              "[1, 2, 5]"
            ]
          },
          "metadata": {},
          "execution_count": 14
        }
      ]
    }
  ]
}