{
  "nbformat": 4,
  "nbformat_minor": 0,
  "metadata": {
    "colab": {
      "provenance": []
    },
    "kernelspec": {
      "name": "python3",
      "display_name": "Python 3"
    },
    "language_info": {
      "name": "python"
    }
  },
  "cells": [
    {
      "cell_type": "markdown",
      "source": [
        "# Practica Recursion"
      ],
      "metadata": {
        "id": "6rxdohV00iKL"
      }
    },
    {
      "cell_type": "markdown",
      "source": [
        "**Ejercicio 1**\n",
        "\n",
        "1. Escribir una función recursiva `repite_hola` que reciba como parámetro un número entero $n$ y escriba por pantalla el mensaje \"Hola\" $n$ veces. Invocarla con distintos valores de $n$.\n",
        "\n",
        "2. Escribir otra función `repite_hola` que reciba como parámetro un número entero $n$ y devuelva la cadena formada por $n$ concatenaciones de \"Hola\". Invocarla con distintos valores de $n$"
      ],
      "metadata": {
        "id": "bqQ5hKbTE5xz"
      }
    },
    {
      "cell_type": "markdown",
      "source": [
        "**Ejercicio 2**\n",
        "\n",
        "1. Piense cuál sería el resultado de la expresión `misterio(5)` y luego compruebe su hipótesis ejecutándola.\n",
        "\n",
        "2. Explique con sus palabras qué hace `misterio(a)` para cualquier `a`, sea positivo, negativo o 0."
      ],
      "metadata": {
        "id": "Nk9iHhz1ic64"
      }
    },
    {
      "cell_type": "code",
      "source": [
        "def misterio(a: int) -> int:\n",
        "  if a == 0:\n",
        "    return a\n",
        "\n",
        "  return 1 + misterio(a - 1)"
      ],
      "metadata": {
        "id": "jXGjJWpAioG4"
      },
      "execution_count": null,
      "outputs": []
    },
    {
      "cell_type": "markdown",
      "source": [
        "**Ejercicio 3**\n",
        "\n",
        "1. Escribir una función `repite_saludo` que reciba como parámetro un número entero $n$ y una cadena saludo y escriba por pantalla el valor de saludo $n$ veces. Invocarla con distintos valores de $n$ y de saludo.\n",
        "\n",
        "2. Escribir otra función `repite_saludo` que reciba como parámetro un número entero $n$ y una cadena saludo devuelva el valor de $n$ concatenaciones de saludo. Invocarla con distintos valores de $n$ y de saludo."
      ],
      "metadata": {
        "id": "v6UoSVfAFaZG"
      }
    },
    {
      "cell_type": "markdown",
      "source": [
        "**Ejercicio 4**\n",
        "\n",
        "Escriba una funcion recursiva que tome un numero natural n e imprima todos los numeros desde n hasta 1."
      ],
      "metadata": {
        "id": "MgICSXQXEZz5"
      }
    },
    {
      "cell_type": "markdown",
      "source": [
        "**Ejercicio 5**\n",
        "\n",
        "Convierta la siguiente función recursiva a una iterativa."
      ],
      "metadata": {
        "id": "Z7TjLxx3jaAM"
      }
    },
    {
      "cell_type": "code",
      "source": [
        "def recursiva(t: int, k: int) -> int:\n",
        "  if t >= 100:\n",
        "    return k\n",
        "  else:\n",
        "    return recursiva(t + k, k + 1)"
      ],
      "metadata": {
        "id": "nRIkRomhj-kv"
      },
      "execution_count": null,
      "outputs": []
    },
    {
      "cell_type": "markdown",
      "source": [
        "**Ejercicio 6**\n",
        "\n",
        "Escribir una función recursiva que calcule recursivamente el n-ésimo número triangular (el número 1 + 2 + 3 + ⋯ + n)."
      ],
      "metadata": {
        "id": "S_zEBM1d4wfm"
      }
    },
    {
      "cell_type": "markdown",
      "source": [
        "**Ejercicio 7**\n",
        "\n",
        "Escribir una función recursiva que reciba un número positivo n y devuelva la cantidad de dígitos que tiene."
      ],
      "metadata": {
        "id": "NcFbTBst0k9h"
      }
    },
    {
      "cell_type": "markdown",
      "source": [
        "**Ejercicio 8**\n",
        "\n",
        "Convierta la siguiente función iterativa a una recursiva."
      ],
      "metadata": {
        "id": "GqKV9CUUlPMJ"
      }
    },
    {
      "cell_type": "code",
      "source": [
        "def iterativa(l: list[int]) -> int:\n",
        "  c = 1\n",
        "  for i in l:\n",
        "    c = c * i\n",
        "  return c"
      ],
      "metadata": {
        "id": "NYXBEtDdmBvl"
      },
      "execution_count": null,
      "outputs": []
    },
    {
      "cell_type": "markdown",
      "source": [
        "**Ejercicio 9** Escribir una funcion recursiva que encuentre el mayor elemento de una lista."
      ],
      "metadata": {
        "id": "LnoHH96w5Boy"
      }
    },
    {
      "cell_type": "markdown",
      "source": [
        "**Ejercicio 10**\n",
        "\n",
        "Dibuje el árbol de llamadas de `llamadas(3)`, y escriba para cada llamada el valor de su `n`, su resultado, y el orden en que se ejecuta en la máquina."
      ],
      "metadata": {
        "id": "7Wvp-pzzmiqT"
      }
    },
    {
      "cell_type": "code",
      "source": [
        "def llamadas(n: int) -> int:\n",
        "  if n <= 0:\n",
        "    return 1\n",
        "\n",
        "  cantidad1 = llamadas(n - 1)\n",
        "  cantidad2 = llamadas(n - 2)\n",
        "\n",
        "  return cantidad1 + cantidad2 + 1"
      ],
      "metadata": {
        "id": "0JR39xkAmqFM"
      },
      "execution_count": null,
      "outputs": []
    },
    {
      "cell_type": "markdown",
      "source": [
        "**Ejercicio 11** Escribir una función recursiva que reciba 2 enteros n y b y devuelva True si n es potencia de b.\n",
        "\n",
        "**Ejemplos**:\n",
        "- es_potencia(8, 2) -> True\n",
        "- es_potencia(64, 4) -> True\n",
        "- es_potencia(70, 10) -> False"
      ],
      "metadata": {
        "id": "iwkC8qNp1MLv"
      }
    },
    {
      "cell_type": "markdown",
      "source": [
        "# Ejercicios Adicionales"
      ],
      "metadata": {
        "id": "6dO9EqZ_qsGJ"
      }
    },
    {
      "cell_type": "markdown",
      "source": [
        "**Ejercicio 12** Escribir una función recursiva para replicar los elementos de una lista una cantidad n de veces. Por ejemplo:\n",
        "- replicar([1, 3, 3, 7], 2) -> ([1, 1, 3, 3, 3, 3, 7, 7])"
      ],
      "metadata": {
        "id": "3Xgvx8UH5oIZ"
      }
    },
    {
      "cell_type": "markdown",
      "source": [
        "**Ejercicio 13** Escriba una funcion que tome una lista y devuelva esa misma lista en orden inverso. Realice dos versiones:\n",
        "\n",
        "* `reversaR` que resuelva utilizando recursión.\n",
        "* `reversaI` que resuelva utilizando iteración."
      ],
      "metadata": {
        "id": "9mXgr_gQRWiH"
      }
    },
    {
      "cell_type": "markdown",
      "source": [
        "**Ejercicio 14** Escribir una funcion recursiva que reciba como parámetros dos cadenas a y b, y encuentre la posicion de la primer ocurrencia de b como subcadena de a\n",
        "\n",
        "**Ejemplo**:\n",
        "- posicion_de(\"Un tete a tete con Tete\", \"te\") -> 3\n",
        "- posicion_de(\"Un tete a tete con Tete\", \"Te\") -> 19\n",
        "\n",
        "**Ayuda**\n",
        "- Puede ser de utilidad el método de `str.startswith` que nos dice si una cadena empieza con una subcadena dada. Puede leer mas sobre este método en la [documentacion oficial](https://docs.python.org/3/library/stdtypes.html?highlight=startswith#str.startswith)"
      ],
      "metadata": {
        "id": "R_MVS9FV2p2_"
      }
    },
    {
      "cell_type": "markdown",
      "source": [
        "## Recursión con wrappers\n",
        "\n",
        "Al diseñar funciones recursivas muchas veces puede ser útil implementar una función **wrapper**, por ejemplo para cambiar los valores que hay que tomar, validar parámetros, inicializar datos o manejar excepciones.\n",
        "\n",
        "Se utiliza una función recursiva, llamada funcion auxiliar, como base y luego una funcion no recursiva, llamada wrapper, que utiliza la funcion auxiliar para resolver lo pedido.\n",
        "\n",
        "Por ejemplo, si necesitamos escribir una función recursiva para calcular el promedio, puede no ser evidente como hacerlo:\n",
        "\n",
        "```python\n",
        "def promediar(lista: list[float]) -> float:\n",
        "  if len(lista) == 0:\n",
        "    return ???\n",
        "  promediar(lista[1:]) ???\n",
        "```\n",
        "\n",
        "Para calcular un promedio necesitamos computar tanto una suma como contar la cantidad de elementos. Podemos hacerlo con una función auxiliar\n",
        "\n",
        "```python\n",
        "def _promediar(lista: list[float]) -> int, float:\n",
        "  if len(lista) == 0:\n",
        "    return 0, 0\n",
        "  cant, suma = promediar(lista[1:])\n",
        "  return cant +1, suma + lista[0]\n",
        "\n",
        "def promediar(lista: list[float]) -> float:\n",
        "  cant, suma = _promediar(lista)\n",
        "  return suma / cant\n",
        "```"
      ],
      "metadata": {
        "id": "zaR3YsHi7SaA"
      }
    },
    {
      "cell_type": "markdown",
      "source": [
        "**Ejercicio 15** Escribir una funcion recursiva que dada una cadena determine si en la misma hay más letras A o letras E. Utilizar una funcion auxiliar."
      ],
      "metadata": {
        "id": "--lq2ot56HOe"
      }
    },
    {
      "cell_type": "markdown",
      "source": [
        "**Ejercicio 16** Escriba una función `potencia(b,n) que calcule la potencia para cualquier n entero, incluso si n es negativa. Utilizar una funcion auxiliar."
      ],
      "metadata": {
        "id": "3dx3RMhe_ZTc"
      }
    },
    {
      "cell_type": "markdown",
      "source": [
        "**Ejercicio 17** Ya sabemos que la implementación recursiva del cálculo del número de Fibonacci (Fn = Fn−1 + Fn−2, F0 = 0, F1 = 1) es ineficiente porque muchas de las ramas calculan reiteradamente los mismos valores.\n",
        "\n",
        "Escribir una función fibonacci(n) que calcule el enésimo número de Fibonacci de forma recursiva pero que utilice un diccionario para almacenar los valores ya computados y no computarlos más de una vez.\n",
        "\n",
        "**Nota**: Será necesario implementar una función wrapper para cumplir con la firma de la función pedida."
      ],
      "metadata": {
        "id": "XD295CPgAQ0D"
      }
    }
  ]
}