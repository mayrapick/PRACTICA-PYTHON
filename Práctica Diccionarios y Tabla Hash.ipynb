{
  "nbformat": 4,
  "nbformat_minor": 0,
  "metadata": {
    "colab": {
      "provenance": []
    },
    "kernelspec": {
      "name": "python3",
      "display_name": "Python 3"
    },
    "language_info": {
      "name": "python"
    }
  },
  "cells": [
    {
      "cell_type": "markdown",
      "source": [
        "# Práctica 2: Tabla Hash\n"
      ],
      "metadata": {
        "id": "42WZXXINVURQ"
      }
    },
    {
      "cell_type": "code",
      "source": [
        "from typing import Any\n",
        "\n",
        "class Diccionario():\n",
        "  \"\"\"\n",
        "  Interfaz del TAD Diccionario, lo vamos a usar para\n",
        "  implementar todas las tablas hash de la práctica.\n",
        "\n",
        "  Puede optar por cambiar los nombres de los métodos\n",
        "  de la interfaz antes de comenzar por:\n",
        "\n",
        "  __setitem__\n",
        "  __gettiem__\n",
        "\n",
        "  para poder utilizar []\n",
        "  \"\"\"\n",
        "\n",
        "  def insertar(self, clave: Any, valor: Any) -> None:\n",
        "    pass\n",
        "\n",
        "  def buscar(self, clave: Any) -> Any | None:\n",
        "    pass\n",
        "\n",
        "  def eliminar(self, clave: Any) -> None:\n",
        "    pass"
      ],
      "metadata": {
        "id": "U9kO6_TZRi6b"
      },
      "execution_count": null,
      "outputs": []
    },
    {
      "cell_type": "markdown",
      "source": [
        "**Ejercicio 1**: Se quiere rellenar el stock de un supermercado. Se sabe que los códigos de los productos van del 000 al 999. Se ingresa alguna cantidad arbitraria de códigos (no necesariamente todos) junto con la cantidad que hay en stock. Implemente una tabla de direccionamiento directo para resolver el problema."
      ],
      "metadata": {
        "id": "WgGvBdMlrpEu"
      }
    },
    {
      "cell_type": "markdown",
      "source": [
        "**Ejercicio 2**: Complete la siguiente implementacion de tabla hash que vimos en la teoria y pruebela."
      ],
      "metadata": {
        "id": "GujTQSFE6KQL"
      }
    },
    {
      "cell_type": "code",
      "source": [
        "class Node2:\n",
        "  def __init__(self, clave = None, valor = None, next = None):\n",
        "    self.clave = clave\n",
        "    self.valor = valor\n",
        "    self.next = next\n",
        "\n",
        "class TablaEncadenamiento(Diccionario):\n",
        "  pass"
      ],
      "metadata": {
        "id": "rVpk7FEk7FfJ"
      },
      "execution_count": null,
      "outputs": []
    },
    {
      "cell_type": "markdown",
      "source": [
        "**Ejercicio 3**: Se quiere mejorar la solución del ejercicio 1. Ahora nos dicen que si bien los códigos van del 000 al 999, nunca se ingresarán más de 20. Resuelva usando otra clase que implemente direccionamiento abierto con sondeo lineal, achicando la memoria utilizada.\n",
        "\n",
        "*Ayuda: utilice una clase Celda auxiliar con el código y el stock. No necesariamente un código termina en el índice de su hash. Con el sondeo lineal buscamos dónde fue realmente a parar el código buscado*"
      ],
      "metadata": {
        "id": "jjG10oDOsQka"
      }
    },
    {
      "cell_type": "markdown",
      "source": [
        "**Ejercicio 4**: La siguiente función implementa una función de hash para strings conocida como el método de Horner. Explique por qué es una buena función de hash."
      ],
      "metadata": {
        "id": "zDtyMEkhubpL"
      }
    },
    {
      "cell_type": "code",
      "source": [
        "def horner(string, M=487): # M es el tamaño de la tabla - deberia ser primo!\n",
        "  A = 37 # Este valor se puede cambiar, algunos valores elegidos usualmente son 37 y 256\n",
        "  h = 0\n",
        "  for c in string:\n",
        "    h = ord(c) + A * h\n",
        "  return h % M\n",
        "\n",
        "print(horner(\"hola\"))\n",
        "print(horner(\"halo\"))\n",
        "print(horner(\"hello\") != horner(\"halo\"))"
      ],
      "metadata": {
        "id": "PdJ4e-F-ubpQ"
      },
      "execution_count": null,
      "outputs": []
    },
    {
      "cell_type": "markdown",
      "source": [
        "**Ejercicio 5**: Herede de la clase de direccionamiento. La haremos dinámica.\n",
        "\n",
        "- Agregue un método que calcule el factor de carga.\n",
        "\n",
        "*Ayuda: si no lo ha hecho antes, será necesario llevar registro del tamaño y la cantidad de elementos, no solamente de la tabla en sí*\n",
        "\n",
        "¿Cómo cree que afecta el factor de carga a la búsqueda en una tabla hash con direccionamiento abierto?\n",
        "\n",
        "- Haga un método privado _rehashear_\n",
        "\n",
        "*Ayuda: Debe duplicar el tamaño de la tabla hash, esto requerirá reinsertar todos los elementos en una tabla nueva con su tamaño duplicado.*\n",
        "\n",
        "- Haga un *override* al método de inserción para que la inserción no tenga límites.\n",
        "\n",
        "*Ayuda: Cuando el factor de carga supere 75%, rehashear, luego insertar normalmente*\n",
        "\n",
        "¿Cómo cree que afecta este rehashing al rendimiento? ¿Cuántas veces debemos hacer este trabajo, relativo a la cantidad de elementos que insertamos?"
      ],
      "metadata": {
        "id": "wldSSZ42uHlx"
      }
    },
    {
      "cell_type": "markdown",
      "source": [
        "**Ejercicio 6**: Implemente una clase Persona con información de contacto. En esta clase, implemente el método mágico \\_\\_hash__ y verifique que funciona bien al insertar personas en la clase de hash dinámica del ejercicio anterior. Prueben que los diccionarios de Python se comportan igual que nuestra implementación desde la perspectiva de un cliente."
      ],
      "metadata": {
        "id": "l441az0svrh8"
      }
    }
  ]
}